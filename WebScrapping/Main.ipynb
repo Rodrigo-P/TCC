{
 "cells": [
  {
   "cell_type": "code",
   "execution_count": 6,
   "metadata": {},
   "outputs": [],
   "source": [
    "from selenium.webdriver.firefox.service import Service\n",
    "from selenium import webdriver\n",
    "from bs4 import BeautifulSoup\n",
    "from tqdm import tqdm\n",
    "\n",
    "import funcs.ArticlePage as ArticlePage\n",
    "import funcs.AuthorPage as AuthorPage\n",
    "import funcs.Common as Common\n",
    "import networkx as nx\n",
    "import importlib\n",
    "import time\n"
   ]
  },
  {
   "cell_type": "code",
   "execution_count": 12,
   "metadata": {},
   "outputs": [
    {
     "name": "stderr",
     "output_type": "stream",
     "text": [
      "C:\\Users\\Rodrigo\\AppData\\Local\\Temp\\ipykernel_6392\\2682943580.py:2: DeprecationWarning: info is deprecated and will be removed in version 3.0.\n",
      "\n",
      "  nx.info(G)\n"
     ]
    },
    {
     "data": {
      "text/plain": [
       "'Graph with 27180 nodes and 31355 edges'"
      ]
     },
     "execution_count": 12,
     "metadata": {},
     "output_type": "execute_result"
    }
   ],
   "source": [
    "G = nx.gml.read_gml(\"../gmls/510_authors.gml\", destringizer=int)\n",
    "nx.info(G)"
   ]
  },
  {
   "cell_type": "code",
   "execution_count": 3,
   "metadata": {},
   "outputs": [],
   "source": [
    "firefox_service = Service()\n",
    "web_driver = webdriver.Firefox(service = firefox_service)\n",
    "url = \"https://www.scopus.com//authid/detail.uri?authorId=10140494200\"\n",
    "web_driver.get(url)\n",
    "\n",
    "url_prefix = \"https://www.scopus.com/authid/detail.uri?authorId=\""
   ]
  },
  {
   "cell_type": "code",
   "execution_count": 4,
   "metadata": {},
   "outputs": [],
   "source": [
    "starting_ids = [\n",
    "\t\t\t\t# 7202074046, \t#Kessler, Ronald C. \t\tN.0001\n",
    "\t\t\t\t# 57203046809,\t#Manson, Jo Ann E. \t\t\tN.0002\n",
    "\t\t\t\t# 57206520256,\t#Colditz, Graham A.\t\t\tN.0003\n",
    "\t\t\t\t# 7402409226,\t\t#Langer, Robert Samuel M.\tN.0004\n",
    "\t\t\t\t# 35606519600,\t#Jackson, Jeremy B.C.\t\tN.0005\n",
    "\t\t\t\t# 35396685700,\t#Akira, Shizuo\t\t\t\tN.0006\n",
    "\t\t\t\t# 36077704000,\t#Vogelstein, Bert\t\t\tN.0007\n",
    "\t\t\t\t# 35463345800,\t#Grätzel, M.\t\t\t\tN.0008\n",
    "\t\t\t\t# 36038688700,\t#Hu, Frank B.\t\t\t\tN.0009\n",
    "\t\t\t\t# 8841196600,\t\t#Guyatt, Gordon Henry M.\tN.0010\n",
    "\t\t\t\t# 35373488900,\t#Cummings, Steven Ron\t\tN.0100\n",
    "\t\t\t\t# 36013862000,\t#Nakamura, Yusuke\t\t\tN.0101\n",
    "\t\t\t\t# 7501533080,\t\t#Wilson, Richard D.\t\t\tN.0102\n",
    "\t\t\t\t# 35375959000,\t#Stanley, H. Eugene\t\t\tN.0103\n",
    "\t\t\t\t# 35492852400,\t#Ajayan, Pulickel M.\t\tN.0104\n",
    "\t\t\t\t# 7402574751,\t\t#Reíter, Rüssel J.\t\t\tN.0105\n",
    "\t\t\t\t# 55913409300,\t#Tyler, Tom R.\t\t\t\tN.1000\n",
    "\t\t\t\t# 7006099014,\t\t#Mantzoros, Christos S.\t\tN.1001\n",
    "\t\t\t\t# 34573429300,\t#Sham, Pak Chung\t\t\tN.1002\n",
    "\t\t\t\t# 7005510490,\t\t#Ribas, Antoni\t\t\t\tN.1003\n",
    "\t\t\t\t# 35227997700,\t#Slutsky, Arthur S.\t\t\tN.1004\n",
    "\t\t\t\t# 18038298200,\t#Pałka, Marek\t\t\t\tN.1005\n",
    "\t\t\t\t# 7103120387,\t\t#Driessen, Arnold J.M.\t\tN.4725\n",
    "\t\t\t\t# 7005903711,\t\t#Hilsenbeck, Susan G.\t\tN.4726\n",
    "\t\t\t\t# 26643614600,\t#Kopecek, Jindrich I.\t\tN.4727\n",
    "\t\t\t\t# 10840422600,\t#Elde, Robert P.\t\t\tN.4728\n",
    "\t\t\t\t# 7202938057,\t\t#Foster, Tim J.\t\t\t\tN.4729\n",
    "\t\t\t\t# 8502005900,\t\t#Labbé, Ivo\t\t\t\t\tN.4730\n",
    "\t\t\t\t# 7004586426,\t\t#Kolodner, Paul\n",
    "\t\t\t\t# 35317963900,\t#Kürths, Jürgen\n",
    "\t\t\t\t# 55958178100,\t#Hertz, Paul\n",
    "\t\t\t\t# 16553015400,\t#Neilsen, Joseph\n",
    "\t\t\t\t10140494200\t\t#Rodrigues, Francisco Aparecido\n",
    "\t\t\t\t]"
   ]
  },
  {
   "cell_type": "code",
   "execution_count": 5,
   "metadata": {},
   "outputs": [],
   "source": [
    "importlib.reload(ArticlePage)\n",
    "_ = importlib.reload(AuthorPage)\n"
   ]
  },
  {
   "cell_type": "code",
   "execution_count": null,
   "metadata": {},
   "outputs": [],
   "source": [
    "current_layer = set(starting_ids)\n",
    "author_graph = nx.Graph()\n",
    "explored_ids = set()\n",
    "next_layer = set()\n",
    "\n",
    "number_of_layers = 3\n",
    "MAX_TRIES = 3\n",
    "\n",
    "\n",
    "for layer in range(number_of_layers):\n",
    "\tprogress_bar = tqdm(current_layer, desc=f\"Layer {layer}\")\n",
    "\n",
    "\tfor author_id in progress_bar:\n",
    "\t\tprogress_bar.set_description(f\"Layer {layer} Author {author_id} Articles {0:3d}%\", refresh=True)\n",
    "\t\texplored_ids.add(author_id) #Adiciona autor aos visitados\n",
    "\t\t\n",
    "\t\tattempts = 0\n",
    "\t\tsuccess = False\n",
    "\t\twhile not success and attempts < MAX_TRIES: #Loop de tentativas para lidar com erros de carregamento (404, 500, etc.)\n",
    "\t\t\ttry:\n",
    "\t\t\t\tweb_driver.get(url_prefix + str(author_id)) #Acessa página do autor\n",
    "\t\t\t\ttime.sleep(4)\n",
    "\t\t\t\tAuthorPage.add_author(web_driver, author_id, author_graph) #Adiciona autor e dados ao grafo\n",
    "\t\t\t\tsuccess = True\n",
    "\t\t\texcept KeyboardInterrupt:\n",
    "\t\t\t\traise\n",
    "\t\t\texcept:\n",
    "\t\t\t\tattempts+=1\n",
    "\n",
    "\t\tif(not success): #Lida com falha de obter autor\n",
    "\t\t\tprint(f\"Failed Author for {author_id}\")\n",
    "\t\t\ttry:\n",
    "\t\t\t\tsoup=BeautifulSoup(web_driver.page_source,'lxml')\n",
    "\t\t\t\tfile=open(f\"Fails\\\\Author_{author_id}.html\", \"w\", encoding=\"utf-8\")\n",
    "\t\t\t\tfile.write(f\"Layer: {layer}\\tAuthor: {author_id}\\n\\n\")\n",
    "\t\t\t\tfile.write(str(soup))\n",
    "\t\t\t\tfile.close()\n",
    "\t\t\texcept KeyboardInterrupt:\n",
    "\t\t\t\traise\n",
    "\t\t\texcept:\n",
    "\t\t\t\tpass\n",
    "\t\t\tcontinue #Pula autor\n",
    "\n",
    "\t\tarticles = AuthorPage.get_author_articles(web_driver, sleep_time=4) #Lista de artigos do pesquisador\n",
    "\n",
    "\t\tnumber_of_articles = len(articles)\n",
    "\t\tfor current_article_index, article_url in enumerate(articles):\n",
    "\t\t\tprogress_bar.set_description(f\"Layer {layer} Author:{author_id} Articles:{(100*current_article_index)//number_of_articles}%\", refresh=True)\n",
    "\t\t\tattempts = 0\n",
    "\t\t\tsuccess = False\n",
    "\t\t\twhile not success and attempts < MAX_TRIES: #Loop de tentativas para lidar com erros de carregamento (404, 500, etc.)\n",
    "\t\t\t\ttry:\n",
    "\t\t\t\t\tweb_driver.get(article_url) #Acessa página do Artigo\n",
    "\t\t\t\t\ttime.sleep(0.8)\n",
    "\t\t\t\t\tArticlePage.add_article(web_driver, explored_ids, next_layer, author_graph, author_id) #Adiciona conexões formadas pelo artigo\n",
    "\t\t\t\t\tsuccess = True\n",
    "\t\t\t\texcept KeyboardInterrupt:\n",
    "\t\t\t\t\traise\n",
    "\t\t\t\texcept:\n",
    "\t\t\t\t\tattempts+=1\n",
    "\t\t\t\t\n",
    "\t\t\t\tif(not success): #Lida com falha de obter artigo\n",
    "\t\t\t\t\tprint(f\"Failed Article for {author_id}\")\n",
    "\t\t\t\t\ttry:\n",
    "\t\t\t\t\t\tsoup=BeautifulSoup(web_driver.page_source,'lxml')\n",
    "\t\t\t\t\t\tfile=open(f\"Fails\\\\Article_{author_id}.html\", \"w\", encoding=\"utf-8\")\n",
    "\t\t\t\t\t\tfile.write(f\"Layer: {layer}\\tAuthor: {author_id}\\n\\n\")\n",
    "\t\t\t\t\t\tfile.write(str(soup))\n",
    "\t\t\t\t\t\tfile.close()\n",
    "\t\t\t\t\texcept KeyboardInterrupt:\n",
    "\t\t\t\t\t\traise\n",
    "\t\t\t\t\texcept:\n",
    "\t\t\t\t\t\tpass\n",
    "\n",
    "\tcurrent_layer = next_layer.copy()\n",
    "\tnext_layer = set()\n",
    "\n",
    "\n",
    "Common.play_notification()"
   ]
  },
  {
   "cell_type": "code",
   "execution_count": null,
   "metadata": {},
   "outputs": [],
   "source": [
    "name = f\"../gmls/{number_of_layers}_layers.gml\"\n",
    "nx.write_gml(author_graph, str(name))\n"
   ]
  },
  {
   "cell_type": "code",
   "execution_count": 29,
   "metadata": {},
   "outputs": [],
   "source": [
    "web_driver.quit()"
   ]
  }
 ],
 "metadata": {
  "kernelspec": {
   "display_name": "Python 3",
   "language": "python",
   "name": "python3"
  },
  "language_info": {
   "codemirror_mode": {
    "name": "ipython",
    "version": 3
   },
   "file_extension": ".py",
   "mimetype": "text/x-python",
   "name": "python",
   "nbconvert_exporter": "python",
   "pygments_lexer": "ipython3",
   "version": "3.10.10"
  },
  "orig_nbformat": 4,
  "vscode": {
   "interpreter": {
    "hash": "6c8272dc20ccb959420f15e85876534ed5bdaf10d9e61c6d3e3af1303897b900"
   }
  }
 },
 "nbformat": 4,
 "nbformat_minor": 2
}
