{
 "cells": [
  {
   "cell_type": "code",
   "execution_count": 1,
   "metadata": {},
   "outputs": [],
   "source": [
    "from selenium.webdriver.firefox.service import Service\n",
    "from selenium import webdriver\n",
    "from bs4 import BeautifulSoup\n",
    "from tqdm import tqdm\n",
    "\n",
    "import funcs.ArticlePage as ArticlePage\n",
    "import funcs.AuthorPage as AuthorPage\n",
    "import funcs.Common as Common\n",
    "import networkx as nx\n",
    "import importlib\n",
    "import time\n"
   ]
  },
  {
   "cell_type": "code",
   "execution_count": 2,
   "metadata": {},
   "outputs": [],
   "source": [
    "firefox_service = Service()\n",
    "web_driver = webdriver.Firefox(service = firefox_service)\n",
    "url = \"https://www.scopus.com//authid/detail.uri?authorId=10140494200\"\n",
    "url_prefix = \"https://www.scopus.com/authid/detail.uri?authorId=\""
   ]
  },
  {
   "cell_type": "code",
   "execution_count": 3,
   "metadata": {},
   "outputs": [],
   "source": [
    "web_driver.get(url)"
   ]
  },
  {
   "cell_type": "code",
   "execution_count": 32,
   "metadata": {},
   "outputs": [],
   "source": [
    "importlib.reload(ArticlePage)\n",
    "_ = importlib.reload(AuthorPage)\n"
   ]
  },
  {
   "cell_type": "code",
   "execution_count": 33,
   "metadata": {},
   "outputs": [
    {
     "name": "stdout",
     "output_type": "stream",
     "text": [
      "108 | 12171\n"
     ]
    }
   ],
   "source": [
    "# author_graph = nx.gml.read_gml(\"../gmls/140_authors.gml\")\n",
    "author_graph = nx.gml.read_gml(\"../gmls/gml_2_iterations.gml\", destringizer=int)\n",
    "nodes = dict(author_graph.nodes())\n",
    "\n",
    "current_layer = set()\n",
    "explored_ids = set()\n",
    "\n",
    "for n in nodes:\n",
    "\tif('hIndex' in nodes[n]):\n",
    "\t\texplored_ids.add(nodes[n]['ID'])\n",
    "\telse:\n",
    "\t\tcurrent_layer.add(n)\n",
    "\n",
    "print(f\"{len(explored_ids)} | {len(current_layer)}\")\n"
   ]
  },
  {
   "cell_type": "code",
   "execution_count": 34,
   "metadata": {},
   "outputs": [
    {
     "name": "stderr",
     "output_type": "stream",
     "text": [
      "Author 7404685116 Articles   0% Fails 55|4481:   5%|▌         | 661/12171 [47:42:53<830:51:34, 259.87s/it]   \n"
     ]
    },
    {
     "ename": "StaleElementReferenceException",
     "evalue": "Message: The element with the reference 2613d668-f601-44a4-b94b-9bb387bda9c8 is stale; either its node document is not the active document, or it is no longer connected to the DOM\nStacktrace:\nRemoteError@chrome://remote/content/shared/RemoteError.sys.mjs:8:8\nWebDriverError@chrome://remote/content/shared/webdriver/Errors.sys.mjs:183:5\nStaleElementReferenceError@chrome://remote/content/shared/webdriver/Errors.sys.mjs:495:5\nelement.getKnownElement@chrome://remote/content/marionette/element.sys.mjs:508:11\ndeserializeJSON@chrome://remote/content/marionette/json.sys.mjs:233:33\ncloneObject/result<@chrome://remote/content/marionette/json.sys.mjs:50:52\ncloneObject@chrome://remote/content/marionette/json.sys.mjs:50:25\ndeserializeJSON@chrome://remote/content/marionette/json.sys.mjs:244:16\ncloneObject@chrome://remote/content/marionette/json.sys.mjs:56:24\ndeserializeJSON@chrome://remote/content/marionette/json.sys.mjs:244:16\njson.deserialize@chrome://remote/content/marionette/json.sys.mjs:248:10\nreceiveMessage@chrome://remote/content/marionette/actors/MarionetteCommandsChild.sys.mjs:85:30\n",
     "output_type": "error",
     "traceback": [
      "\u001b[1;31m---------------------------------------------------------------------------\u001b[0m",
      "\u001b[1;31mStaleElementReferenceException\u001b[0m            Traceback (most recent call last)",
      "Cell \u001b[1;32mIn[34], line 43\u001b[0m\n\u001b[0;32m     40\u001b[0m \t\t\u001b[39mpass\u001b[39;00m\n\u001b[0;32m     41\u001b[0m \t\u001b[39mcontinue\u001b[39;00m \u001b[39m#Pula autor\u001b[39;00m\n\u001b[1;32m---> 43\u001b[0m articles \u001b[39m=\u001b[39m AuthorPage\u001b[39m.\u001b[39;49mget_author_articles(web_driver, sleep_time\u001b[39m=\u001b[39;49m\u001b[39m4\u001b[39;49m) \u001b[39m#Lista de artigos do pesquisador\u001b[39;00m\n\u001b[0;32m     45\u001b[0m number_of_articles \u001b[39m=\u001b[39m \u001b[39mlen\u001b[39m(articles)\n\u001b[0;32m     46\u001b[0m \u001b[39mfor\u001b[39;00m current_article_index, article_url \u001b[39min\u001b[39;00m \u001b[39menumerate\u001b[39m(articles):\n",
      "File \u001b[1;32mc:\\Users\\Rodrigo\\Desktop\\Rodrigo\\USP\\TCC\\cods\\WebScrapping\\funcs\\AuthorPage.py:34\u001b[0m, in \u001b[0;36mget_author_articles\u001b[1;34m(web_driver, sleep_time)\u001b[0m\n\u001b[0;32m     32\u001b[0m \tweb_driver\u001b[39m.\u001b[39mexecute_script(\u001b[39m\"\u001b[39m\u001b[39marguments[0].click();\u001b[39m\u001b[39m\"\u001b[39m, next_button)\n\u001b[0;32m     33\u001b[0m \ttime\u001b[39m.\u001b[39msleep(sleep_time)\n\u001b[1;32m---> 34\u001b[0m \tarticle_url_list \u001b[39m+\u001b[39m\u001b[39m=\u001b[39m get_article_urls(web_driver)\n\u001b[0;32m     35\u001b[0m \tnext_button \u001b[39m=\u001b[39m web_driver\u001b[39m.\u001b[39mfind_element(By\u001b[39m.\u001b[39mXPATH,\u001b[39m\"\u001b[39m\u001b[39m//span[text()=\u001b[39m\u001b[39m'\u001b[39m\u001b[39mNext\u001b[39m\u001b[39m'\u001b[39m\u001b[39m]\u001b[39m\u001b[39m\"\u001b[39m)\u001b[39m.\u001b[39mfind_element(By\u001b[39m.\u001b[39mXPATH, \u001b[39m\"\u001b[39m\u001b[39m./..\u001b[39m\u001b[39m\"\u001b[39m) \u001b[39m#Finds Next Span, gets parent button\u001b[39;00m\n\u001b[0;32m     37\u001b[0m \u001b[39mreturn\u001b[39;00m article_url_list\n",
      "File \u001b[1;32mc:\\Users\\Rodrigo\\Desktop\\Rodrigo\\USP\\TCC\\cods\\WebScrapping\\funcs\\AuthorPage.py:21\u001b[0m, in \u001b[0;36mget_article_urls\u001b[1;34m(web_driver)\u001b[0m\n\u001b[0;32m     19\u001b[0m \u001b[39mfor\u001b[39;00m article \u001b[39min\u001b[39;00m article_list:\n\u001b[0;32m     20\u001b[0m \t\u001b[39mif\u001b[39;00m(article\u001b[39m.\u001b[39mfind_element(By\u001b[39m.\u001b[39mCSS_SELECTOR, \u001b[39m\"\u001b[39m\u001b[39mspan\u001b[39m\u001b[39m\"\u001b[39m)\u001b[39m.\u001b[39mget_attribute(\u001b[39m'\u001b[39m\u001b[39minnerText\u001b[39m\u001b[39m'\u001b[39m)\u001b[39m.\u001b[39mstartswith(\u001b[39m\"\u001b[39m\u001b[39mArticle\u001b[39m\u001b[39m\"\u001b[39m)): \u001b[39m#Checa se documento é artigo\u001b[39;00m\n\u001b[1;32m---> 21\u001b[0m \t\tarticle_url_list\u001b[39m.\u001b[39mappend(article\u001b[39m.\u001b[39;49mfind_element(By\u001b[39m.\u001b[39;49mCSS_SELECTOR, \u001b[39m\"\u001b[39;49m\u001b[39ma[href]\u001b[39;49m\u001b[39m\"\u001b[39;49m)\u001b[39m.\u001b[39;49mget_attribute(\u001b[39m\"\u001b[39;49m\u001b[39mhref\u001b[39;49m\u001b[39m\"\u001b[39;49m))\n\u001b[0;32m     23\u001b[0m \u001b[39mreturn\u001b[39;00m article_url_list\n",
      "File \u001b[1;32mc:\\Users\\Rodrigo\\AppData\\Local\\Programs\\Python\\Python310\\lib\\site-packages\\selenium\\webdriver\\remote\\webelement.py:178\u001b[0m, in \u001b[0;36mWebElement.get_attribute\u001b[1;34m(self, name)\u001b[0m\n\u001b[0;32m    176\u001b[0m \u001b[39mif\u001b[39;00m getAttribute_js \u001b[39mis\u001b[39;00m \u001b[39mNone\u001b[39;00m:\n\u001b[0;32m    177\u001b[0m     _load_js()\n\u001b[1;32m--> 178\u001b[0m attribute_value \u001b[39m=\u001b[39m \u001b[39mself\u001b[39;49m\u001b[39m.\u001b[39;49mparent\u001b[39m.\u001b[39;49mexecute_script(\n\u001b[0;32m    179\u001b[0m     \u001b[39mf\u001b[39;49m\u001b[39m\"\u001b[39;49m\u001b[39m/* getAttribute */return (\u001b[39;49m\u001b[39m{\u001b[39;49;00mgetAttribute_js\u001b[39m}\u001b[39;49;00m\u001b[39m).apply(null, arguments);\u001b[39;49m\u001b[39m\"\u001b[39;49m, \u001b[39mself\u001b[39;49m, name\n\u001b[0;32m    180\u001b[0m )\n\u001b[0;32m    181\u001b[0m \u001b[39mreturn\u001b[39;00m attribute_value\n",
      "File \u001b[1;32mc:\\Users\\Rodrigo\\AppData\\Local\\Programs\\Python\\Python310\\lib\\site-packages\\selenium\\webdriver\\remote\\webdriver.py:500\u001b[0m, in \u001b[0;36mWebDriver.execute_script\u001b[1;34m(self, script, *args)\u001b[0m\n\u001b[0;32m    497\u001b[0m converted_args \u001b[39m=\u001b[39m \u001b[39mlist\u001b[39m(args)\n\u001b[0;32m    498\u001b[0m command \u001b[39m=\u001b[39m Command\u001b[39m.\u001b[39mW3C_EXECUTE_SCRIPT\n\u001b[1;32m--> 500\u001b[0m \u001b[39mreturn\u001b[39;00m \u001b[39mself\u001b[39;49m\u001b[39m.\u001b[39;49mexecute(command, {\u001b[39m\"\u001b[39;49m\u001b[39mscript\u001b[39;49m\u001b[39m\"\u001b[39;49m: script, \u001b[39m\"\u001b[39;49m\u001b[39margs\u001b[39;49m\u001b[39m\"\u001b[39;49m: converted_args})[\u001b[39m\"\u001b[39m\u001b[39mvalue\u001b[39m\u001b[39m\"\u001b[39m]\n",
      "File \u001b[1;32mc:\\Users\\Rodrigo\\AppData\\Local\\Programs\\Python\\Python310\\lib\\site-packages\\selenium\\webdriver\\remote\\webdriver.py:440\u001b[0m, in \u001b[0;36mWebDriver.execute\u001b[1;34m(self, driver_command, params)\u001b[0m\n\u001b[0;32m    438\u001b[0m response \u001b[39m=\u001b[39m \u001b[39mself\u001b[39m\u001b[39m.\u001b[39mcommand_executor\u001b[39m.\u001b[39mexecute(driver_command, params)\n\u001b[0;32m    439\u001b[0m \u001b[39mif\u001b[39;00m response:\n\u001b[1;32m--> 440\u001b[0m     \u001b[39mself\u001b[39;49m\u001b[39m.\u001b[39;49merror_handler\u001b[39m.\u001b[39;49mcheck_response(response)\n\u001b[0;32m    441\u001b[0m     response[\u001b[39m\"\u001b[39m\u001b[39mvalue\u001b[39m\u001b[39m\"\u001b[39m] \u001b[39m=\u001b[39m \u001b[39mself\u001b[39m\u001b[39m.\u001b[39m_unwrap_value(response\u001b[39m.\u001b[39mget(\u001b[39m\"\u001b[39m\u001b[39mvalue\u001b[39m\u001b[39m\"\u001b[39m, \u001b[39mNone\u001b[39;00m))\n\u001b[0;32m    442\u001b[0m     \u001b[39mreturn\u001b[39;00m response\n",
      "File \u001b[1;32mc:\\Users\\Rodrigo\\AppData\\Local\\Programs\\Python\\Python310\\lib\\site-packages\\selenium\\webdriver\\remote\\errorhandler.py:245\u001b[0m, in \u001b[0;36mErrorHandler.check_response\u001b[1;34m(self, response)\u001b[0m\n\u001b[0;32m    243\u001b[0m         alert_text \u001b[39m=\u001b[39m value[\u001b[39m\"\u001b[39m\u001b[39malert\u001b[39m\u001b[39m\"\u001b[39m]\u001b[39m.\u001b[39mget(\u001b[39m\"\u001b[39m\u001b[39mtext\u001b[39m\u001b[39m\"\u001b[39m)\n\u001b[0;32m    244\u001b[0m     \u001b[39mraise\u001b[39;00m exception_class(message, screen, stacktrace, alert_text)  \u001b[39m# type: ignore[call-arg]  # mypy is not smart enough here\u001b[39;00m\n\u001b[1;32m--> 245\u001b[0m \u001b[39mraise\u001b[39;00m exception_class(message, screen, stacktrace)\n",
      "\u001b[1;31mStaleElementReferenceException\u001b[0m: Message: The element with the reference 2613d668-f601-44a4-b94b-9bb387bda9c8 is stale; either its node document is not the active document, or it is no longer connected to the DOM\nStacktrace:\nRemoteError@chrome://remote/content/shared/RemoteError.sys.mjs:8:8\nWebDriverError@chrome://remote/content/shared/webdriver/Errors.sys.mjs:183:5\nStaleElementReferenceError@chrome://remote/content/shared/webdriver/Errors.sys.mjs:495:5\nelement.getKnownElement@chrome://remote/content/marionette/element.sys.mjs:508:11\ndeserializeJSON@chrome://remote/content/marionette/json.sys.mjs:233:33\ncloneObject/result<@chrome://remote/content/marionette/json.sys.mjs:50:52\ncloneObject@chrome://remote/content/marionette/json.sys.mjs:50:25\ndeserializeJSON@chrome://remote/content/marionette/json.sys.mjs:244:16\ncloneObject@chrome://remote/content/marionette/json.sys.mjs:56:24\ndeserializeJSON@chrome://remote/content/marionette/json.sys.mjs:244:16\njson.deserialize@chrome://remote/content/marionette/json.sys.mjs:248:10\nreceiveMessage@chrome://remote/content/marionette/actors/MarionetteCommandsChild.sys.mjs:85:30\n"
     ]
    }
   ],
   "source": [
    "MAX_TRIES = 2\n",
    "\n",
    "progress_bar = tqdm(current_layer)\n",
    "failed_articles = 0\n",
    "failed_authors = 0\n",
    "\n",
    "for author_id in progress_bar:\n",
    "\tif((len(explored_ids)%10) == 0):\n",
    "\t\tnx.write_gml(author_graph, f\"../gmls/{len(explored_ids)}_authors.gml\")\n",
    "\n",
    "\tprogress_bar.set_description(f\"Author {author_id} Articles {0:3d}% Fails {failed_authors:2d}|{failed_articles:<3d}\", refresh=True)\n",
    "\t\n",
    "\tsuccess = False\n",
    "\tattempts = 0\n",
    "\twhile not success and attempts < MAX_TRIES: #Loop de tentativas para lidar com erros de carregamento (404, 500, etc.)\n",
    "\t\ttry:\n",
    "\t\t\tweb_driver.get(url_prefix + str(author_id)) #Acessa página do autor\n",
    "\t\t\ttime.sleep(4)\n",
    "\t\t\tAuthorPage.add_author(web_driver, author_id, author_graph) #Adiciona autor e dados ao grafo\n",
    "\t\t\texplored_ids.add(author_id) #Adiciona autor aos visitados\n",
    "\t\t\tsuccess = True\n",
    "\t\texcept KeyboardInterrupt:\n",
    "\t\t\traise\n",
    "\t\texcept:\n",
    "\t\t\tattempts+=1\n",
    "\n",
    "\tif(not success): #Lida com falha de obter autor\n",
    "\t\tfailed_authors+=1\n",
    "\t\twith open(\"Fails\\\\FailedList.txt\", \"a\", encoding=\"utf-8\") as log_file:\n",
    "\t\t\tlog_file.write(f\"Failed Author for {author_id}\\n\")\n",
    "\n",
    "\t\ttry:\n",
    "\t\t\tsoup=BeautifulSoup(web_driver.page_source,'lxml')\n",
    "\t\t\tfile=open(f\"Fails\\\\Author_{author_id}.html\", \"w\", encoding=\"utf-8\")\n",
    "\t\t\tfile.write(str(soup))\n",
    "\t\t\tfile.close()\n",
    "\t\texcept KeyboardInterrupt:\n",
    "\t\t\traise\n",
    "\t\texcept:\n",
    "\t\t\tpass\n",
    "\t\tcontinue #Pula autor\n",
    "\n",
    "\tarticles = AuthorPage.get_author_articles(web_driver, sleep_time=4) #Lista de artigos do pesquisador\n",
    "\n",
    "\tnumber_of_articles = len(articles)\n",
    "\tfor current_article_index, article_url in enumerate(articles):\n",
    "\t\tprogress_bar.set_description(f\"Author:{author_id} Articles:{(100*current_article_index)//number_of_articles}% Fails {failed_authors:2d}|{failed_articles:<3d}\", refresh=True)\n",
    "\t\tattempts = 0\n",
    "\t\tsuccess = False\n",
    "\t\twhile not success and attempts < MAX_TRIES: #Loop de tentativas para lidar com erros de carregamento (404, 500, etc.)\n",
    "\t\t\ttry:\n",
    "\t\t\t\tweb_driver.get(article_url) #Acessa página do Artigo\n",
    "\t\t\t\ttime.sleep(0.8)\n",
    "\t\t\t\tArticlePage.add_article_without_next_layer(web_driver, explored_ids, author_graph, author_id) #Adiciona conexões formadas pelo artigo\n",
    "\t\t\t\tsuccess = True\n",
    "\t\t\texcept KeyboardInterrupt:\n",
    "\t\t\t\traise\n",
    "\t\t\texcept:\n",
    "\t\t\t\tattempts+=1\n",
    "\t\t\t\n",
    "\t\t\tif(not success): #Lida com falha de obter artigo\n",
    "\t\t\t\tfailed_articles+=1\n",
    "\t\t\t\twith open(\"Fails\\\\FailedList.txt\", \"a\", encoding=\"utf-8\") as log_file:\n",
    "\t\t\t\t\tlog_file.write(f\"Failed Author for {author_id}\\n\")\n",
    "\t\n",
    "\t\t\t\ttry:\n",
    "\t\t\t\t\tsoup=BeautifulSoup(web_driver.page_source,'lxml')\n",
    "\t\t\t\t\tfile=open(f\"Fails\\\\Article_{author_id}.html\", \"w\", encoding=\"utf-8\")\n",
    "\t\t\t\t\tfile.write(str(soup))\n",
    "\t\t\t\t\tfile.close()\n",
    "\t\t\t\texcept KeyboardInterrupt:\n",
    "\t\t\t\t\traise\n",
    "\t\t\t\texcept:\n",
    "\t\t\t\t\tpass\n",
    "\n",
    "Common.play_notification()\n"
   ]
  },
  {
   "cell_type": "code",
   "execution_count": 12,
   "metadata": {},
   "outputs": [],
   "source": [
    "name = f\"../gmls/main.gml\"\n",
    "nx.write_gml(author_graph, str(name))\n"
   ]
  },
  {
   "cell_type": "code",
   "execution_count": 29,
   "metadata": {},
   "outputs": [],
   "source": [
    "web_driver.quit()"
   ]
  }
 ],
 "metadata": {
  "kernelspec": {
   "display_name": "Python 3",
   "language": "python",
   "name": "python3"
  },
  "language_info": {
   "codemirror_mode": {
    "name": "ipython",
    "version": 3
   },
   "file_extension": ".py",
   "mimetype": "text/x-python",
   "name": "python",
   "nbconvert_exporter": "python",
   "pygments_lexer": "ipython3",
   "version": "3.10.10"
  },
  "orig_nbformat": 4,
  "vscode": {
   "interpreter": {
    "hash": "6c8272dc20ccb959420f15e85876534ed5bdaf10d9e61c6d3e3af1303897b900"
   }
  }
 },
 "nbformat": 4,
 "nbformat_minor": 2
}
