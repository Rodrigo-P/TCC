{
 "cells": [
  {
   "cell_type": "code",
   "execution_count": 4,
   "metadata": {},
   "outputs": [],
   "source": [
    "from selenium.webdriver.firefox.service import Service\n",
    "from selenium import webdriver\n",
    "from bs4 import BeautifulSoup\n",
    "from tqdm import tqdm\n",
    "\n",
    "\n",
    "import funcs.ArticlePage as ArticlePage\n",
    "import funcs.AuthorPage as AuthorPage\n",
    "import funcs.Common as Common\n",
    "import networkx as nx\n",
    "import importlib\n",
    "import time\n"
   ]
  },
  {
   "cell_type": "code",
   "execution_count": 3,
   "metadata": {},
   "outputs": [],
   "source": [
    "firefox_service = Service()\n",
    "web_driver = webdriver.Firefox(service = firefox_service)\n",
    "url = \"https://www.scopus.com/\"\n",
    "web_driver.get(url)\n",
    "\n",
    "url_prefix = \"https://www.scopus.com/authid/detail.uri?authorId=\""
   ]
  },
  {
   "cell_type": "code",
   "execution_count": null,
   "metadata": {},
   "outputs": [],
   "source": [
    "failed_ids=[7005844510,55362161700,9734543400,35315426400,55358691500,10241618100,54976304900,36145857300,6602492239,16070578000,7102536021,57719874400,57024220000,56102265700,57194135400,57217896809,57205443945,6602268525,57219586927,36634617200,57205532529,26531952500,7005034358,36763188600,30567911800,56497195900,7102949760,57214724995,36666074500,57338880900,8857319300,56279109000,57201673097,57194453898,56400610700,57204639118,55752154000,55865706900,7006787992,57212242329,57111671200,8308522400,23396313000,23388121000,7801658282,57204296619,57221141935,36080404400,55557178800,7102731698,36145850800,58117413300,57117489600,6603156928,57203025864,55540823500,26532123600,7003967440,57754032600,57207692762,7102149594,57209344990,23969068000,6508172257,56389488100,24823924200,15032551400,7102447605,55787127800,7003815417,57161275900]\n",
    "print(len(failed_ids))"
   ]
  },
  {
   "cell_type": "code",
   "execution_count": 6,
   "metadata": {},
   "outputs": [],
   "source": [
    "importlib.reload(ArticlePage)\n",
    "_ = importlib.reload(AuthorPage)\n"
   ]
  },
  {
   "cell_type": "code",
   "execution_count": null,
   "metadata": {},
   "outputs": [],
   "source": [
    "current_layer = set(failed_ids)\n",
    "author_graph = nx.Graph()\n",
    "explored_ids = set()\n",
    "next_layer = set()\n",
    "\n",
    "MAX_TRIES = 5\n",
    "\n",
    "for author_id in current_layer:\n",
    "\texplored_ids.add(author_id) #Adiciona autor aos visitados\n",
    "\t\n",
    "\tattempts = 0\n",
    "\tsuccess = False\n",
    "\twhile not success and attempts < MAX_TRIES: #Loop de tentativas para lidar com erros de carregamento (404, 500, etc.)\n",
    "\t\ttry:\n",
    "\t\t\tweb_driver.get(url_prefix + str(author_id)) #Acessa página do autor\n",
    "\t\t\ttime.sleep(4)\n",
    "\t\t\tAuthorPage.add_author(web_driver, author_id, author_graph) #Adiciona autor e dados ao grafo\n",
    "\t\t\tsuccess = True\n",
    "\t\texcept KeyboardInterrupt:\n",
    "\t\t\traise\n",
    "\t\texcept:\n",
    "\t\t\tattempts+=1\n",
    "\n",
    "\tif(not success): #Lida com falha de obter autor\n",
    "\t\tprint(f\"Failed Author for {author_id}\")\n",
    "\t\ttry:\n",
    "\t\t\tsoup=BeautifulSoup(web_driver.page_source,'lxml')\n",
    "\t\t\tfile=open(f\"Fails\\\\Author_{author_id}.html\", \"w\", encoding=\"utf-8\")\n",
    "\t\t\tfile.write(f\"Author: {author_id}\\n\\n\")\n",
    "\t\t\tfile.write(str(soup))\n",
    "\t\t\tfile.close()\n",
    "\t\texcept KeyboardInterrupt:\n",
    "\t\t\traise\n",
    "\t\texcept:\n",
    "\t\t\tpass\n",
    "\t\tcontinue #Pula autor\n",
    "\n",
    "\tarticles = AuthorPage.get_author_articles(web_driver, sleep_time=4) #Lista de artigos do pesquisador\n",
    "\n",
    "\tfor article_url in articles:\n",
    "\t\tattempts = 0\n",
    "\t\tsuccess = False\n",
    "\t\twhile not success and attempts < MAX_TRIES: #Loop de tentativas para lidar com erros de carregamento (404, 500, etc.)\n",
    "\t\t\ttry:\n",
    "\t\t\t\tweb_driver.get(article_url) #Acessa página do Artigo\n",
    "\t\t\t\ttime.sleep(4)\n",
    "\t\t\t\tArticlePage.add_article(web_driver, explored_ids, next_layer, author_graph, author_id) #Adiciona conexões formadas pelo artigo\n",
    "\t\t\t\tsuccess = True\n",
    "\t\t\texcept KeyboardInterrupt:\n",
    "\t\t\t\traise\n",
    "\t\t\texcept:\n",
    "\t\t\t\tattempts+=1\n",
    "\t\t\t\n",
    "\t\t\tif(not success): #Lida com falha de obter artigo\n",
    "\t\t\t\tprint(f\"Failed Article for {author_id}\")\n",
    "\t\t\t\ttry:\n",
    "\t\t\t\t\tsoup=BeautifulSoup(web_driver.page_source,'lxml')\n",
    "\t\t\t\t\tfile=open(f\"Fails\\\\Article_{author_id}.html\", \"w\", encoding=\"utf-8\")\n",
    "\t\t\t\t\tfile.write(f\"Author: {author_id}\\n\\n\")\n",
    "\t\t\t\t\tfile.write(str(soup))\n",
    "\t\t\t\t\tfile.close()\n",
    "\t\t\t\texcept KeyboardInterrupt:\n",
    "\t\t\t\t\traise\n",
    "\t\t\t\texcept:\n",
    "\t\t\t\t\tpass\n",
    "\n",
    "\n",
    "Common.play_notification()"
   ]
  },
  {
   "cell_type": "code",
   "execution_count": null,
   "metadata": {},
   "outputs": [],
   "source": [
    "name = f\"../gmls/gml_fails.gml\"\n",
    "nx.write_gml(author_graph, str(name))"
   ]
  },
  {
   "cell_type": "code",
   "execution_count": 29,
   "metadata": {},
   "outputs": [],
   "source": [
    "web_driver.quit()"
   ]
  }
 ],
 "metadata": {
  "kernelspec": {
   "display_name": "Python 3",
   "language": "python",
   "name": "python3"
  },
  "language_info": {
   "codemirror_mode": {
    "name": "ipython",
    "version": 3
   },
   "file_extension": ".py",
   "mimetype": "text/x-python",
   "name": "python",
   "nbconvert_exporter": "python",
   "pygments_lexer": "ipython3",
   "version": "3.10.10"
  },
  "orig_nbformat": 4,
  "vscode": {
   "interpreter": {
    "hash": "6c8272dc20ccb959420f15e85876534ed5bdaf10d9e61c6d3e3af1303897b900"
   }
  }
 },
 "nbformat": 4,
 "nbformat_minor": 2
}
