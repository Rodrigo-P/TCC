{
 "cells": [
  {
   "cell_type": "code",
   "execution_count": 1,
   "metadata": {},
   "outputs": [],
   "source": [
    "from selenium.webdriver.firefox.service import Service\n",
    "from selenium.webdriver.support.ui import Select\n",
    "from selenium.webdriver.common.by import By\n",
    "from selenium import webdriver\n",
    "from bs4 import BeautifulSoup\n",
    "\n",
    "import time\n"
   ]
  },
  {
   "cell_type": "code",
   "execution_count": 2,
   "metadata": {},
   "outputs": [],
   "source": [
    "firefox_service = Service()\n",
    "web_driver = webdriver.Firefox(service = firefox_service)"
   ]
  },
  {
   "cell_type": "code",
   "execution_count": 3,
   "metadata": {},
   "outputs": [],
   "source": [
    "url = \"https://www.scopus.com/\" #Login first\n",
    "web_driver.get(url)"
   ]
  },
  {
   "cell_type": "code",
   "execution_count": 4,
   "metadata": {},
   "outputs": [],
   "source": [
    "url = \"https://www.scopus.com/record/display.uri?eid=2-s2.0-85151575169&origin=resultslist&sort=plf-f\"\n",
    "web_driver.get(url)"
   ]
  },
  {
   "cell_type": "code",
   "execution_count": 5,
   "metadata": {},
   "outputs": [],
   "source": [
    "div_with_authors = web_driver.find_element(By.CSS_SELECTOR, \"div[class='row'] [data-testid='author-list']\") #Container de botões\n",
    "author_buttons = div_with_authors.find_elements(By.CSS_SELECTOR, \"button\")[:-1] #Lista de botões\n",
    "author_buttons[-1].click() #Expand\n"
   ]
  },
  {
   "cell_type": "code",
   "execution_count": 17,
   "metadata": {},
   "outputs": [],
   "source": [
    "def get_author_id(author_buttons, author_num):\n",
    "\tauthor_buttons[author_num].click() #First Author\n",
    "\tauthor_link = web_driver.find_element(By.XPATH,\"//span[text()='View full profile']\").find_element(By.XPATH, \"./..\").get_attribute(\"href\") #Get link to author from tab\n",
    "\tprint(author_link[author_link.find(\"Id=\")+3 : author_link.find(\"&origin\")])\n",
    "\tweb_driver.find_element(By.CSS_SELECTOR, \"button[data-test-id='flyout-close-button']\").click() #Fecha aba de dados\n",
    "\n",
    "\treturn author_link[author_link.find(\"Id=\")+3 : author_link.find(\"&origin\")]\n"
   ]
  },
  {
   "cell_type": "code",
   "execution_count": 23,
   "metadata": {},
   "outputs": [],
   "source": [
    "def get_author_id_list(web_driver):\n",
    "\tdiv_with_authors = web_driver.find_element(By.CSS_SELECTOR, \"div[class='row'] [data-testid='author-list']\") #Container de botões\n",
    "\tauthor_buttons = div_with_authors.find_elements(By.CSS_SELECTOR, \"button\")[:-1] #Lista de botões\n",
    "\tauthor_buttons[-1].click() #Expand author list, makes buttons interactable\n",
    "\tid_list = []\n",
    "\ttime.sleep(0.5)\n",
    "\t\n",
    "\tfor author_num in range(len(author_buttons)-1):\n",
    "\t\tauthor_buttons[author_num].click() #Open author tab\n",
    "\t\tauthor_link = web_driver.find_element(By.XPATH,\"//span[text()='View full profile']\").find_element(By.XPATH, \"./..\").get_attribute(\"href\") #Get link to author from tab\n",
    "\t\tweb_driver.find_element(By.CSS_SELECTOR, \"button[data-test-id='flyout-close-button']\").click() #Close tab\n",
    "\n",
    "\t\tid_list.append(author_link[author_link.find(\"Id=\")+3 : author_link.find(\"&origin\")])#Append author ID\n",
    "\t\ttime.sleep(0.5)\n",
    "\t\n",
    "\treturn id_list"
   ]
  },
  {
   "cell_type": "code",
   "execution_count": 24,
   "metadata": {},
   "outputs": [
    {
     "name": "stdout",
     "output_type": "stream",
     "text": [
      "['56010408400', '57194472910', '57208527024', '58170477900', '7003689401', '56832406900', '57206520256', '57807006400', '57221184039', '7101879034', '22634206400', '58170453100', '57436168800', '36843466800', '58170334700', '7003846377', '57662768200', '8576792100', '26636700200', '14061103300', '57907130500', '57645227800', '9738478000', '7003926054', '58133609500', '7102617650', '57677255900', '57977386000', '57203550158', '58243285200', '57194666730', '7202012047']\n"
     ]
    }
   ],
   "source": [
    "id_list = get_author_id_list(web_driver)\n",
    "print(id_list)"
   ]
  },
  {
   "cell_type": "code",
   "execution_count": 7,
   "metadata": {},
   "outputs": [],
   "source": [
    "web_driver.quit()"
   ]
  }
 ],
 "metadata": {
  "kernelspec": {
   "display_name": "Python 3",
   "language": "python",
   "name": "python3"
  },
  "language_info": {
   "codemirror_mode": {
    "name": "ipython",
    "version": 3
   },
   "file_extension": ".py",
   "mimetype": "text/x-python",
   "name": "python",
   "nbconvert_exporter": "python",
   "pygments_lexer": "ipython3",
   "version": "3.10.10"
  },
  "orig_nbformat": 4,
  "vscode": {
   "interpreter": {
    "hash": "6c8272dc20ccb959420f15e85876534ed5bdaf10d9e61c6d3e3af1303897b900"
   }
  }
 },
 "nbformat": 4,
 "nbformat_minor": 2
}
