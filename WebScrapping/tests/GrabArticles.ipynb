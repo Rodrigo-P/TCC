{
 "cells": [
  {
   "cell_type": "code",
   "execution_count": 1,
   "metadata": {},
   "outputs": [],
   "source": [
    "from selenium.webdriver.firefox.service import Service\n",
    "from selenium.webdriver.support.ui import Select\n",
    "from selenium.webdriver.common.by import By\n",
    "from selenium import webdriver\n",
    "from bs4 import BeautifulSoup\n",
    "\n",
    "import time\n"
   ]
  },
  {
   "cell_type": "code",
   "execution_count": 2,
   "metadata": {},
   "outputs": [],
   "source": [
    "firefox_service = Service()\n",
    "web_driver = webdriver.Firefox(service = firefox_service)"
   ]
  },
  {
   "cell_type": "code",
   "execution_count": 3,
   "metadata": {},
   "outputs": [],
   "source": [
    "url = \"https://www.scopus.com/authid/detail.uri?authorId=57206520256\"\n",
    "web_driver.get(url)"
   ]
  },
  {
   "cell_type": "code",
   "execution_count": 4,
   "metadata": {},
   "outputs": [
    {
     "name": "stdout",
     "output_type": "stream",
     "text": [
      "5\n"
     ]
    }
   ],
   "source": [
    "dropdown_list = web_driver.find_elements(By.CSS_SELECTOR, \"select\")\n",
    "print(len(dropdown_list))\n",
    "\n",
    "result_lenght_select = Select(dropdown_list[2])\n",
    "result_lenght_select.select_by_value('200')\n"
   ]
  },
  {
   "cell_type": "code",
   "execution_count": 5,
   "metadata": {},
   "outputs": [
    {
     "name": "stdout",
     "output_type": "stream",
     "text": [
      "True True\n",
      "True\n"
     ]
    }
   ],
   "source": [
    "next_buttons = web_driver.find_elements(By.XPATH,\"//span[text()='Next']\")\n",
    "parent = next_buttons[0].find_element(By.XPATH, \"./..\")\n",
    "print(parent.is_enabled())\n"
   ]
  },
  {
   "cell_type": "code",
   "execution_count": 17,
   "metadata": {},
   "outputs": [],
   "source": [
    "def get_article_urls(web_driver):\n",
    "\tarticle_url_list = []\n",
    "\n",
    "\tarticle_list = web_driver.find_elements(By.CSS_SELECTOR, \"li[class='results-list-item']\")\n",
    "\tfor article in article_list:\n",
    "\t\tarticle_url_list.append(article.find_element(By.CSS_SELECTOR, \"a[href]\").get_attribute(\"href\"))\n",
    "\n",
    "\treturn article_url_list\n",
    "\n",
    "def get_author_articles(web_driver):\n",
    "\tarticle_url_list = get_article_urls(web_driver)\n",
    "\tprint(len(set(article_url_list)))\n",
    "\n",
    "\tnext_button = web_driver.find_element(By.XPATH,\"//span[text()='Next']\").find_element(By.XPATH, \"./..\")\n",
    "\n",
    "\twhile(next_button.is_enabled()):\n",
    "\t\tnext_button.click()\n",
    "\t\ttime.sleep(5)\n",
    "\t\tarticle_url_list += get_article_urls(web_driver)\n",
    "\t\tprint(len(set(article_url_list)))\n",
    "\t\tnext_button = web_driver.find_element(By.XPATH,\"//span[text()='Next']\").find_element(By.XPATH, \"./..\") #Finds Next Span, gets parent button\n",
    "\n",
    "\treturn article_url_list\n"
   ]
  },
  {
   "cell_type": "code",
   "execution_count": 18,
   "metadata": {},
   "outputs": [
    {
     "name": "stdout",
     "output_type": "stream",
     "text": [
      "200\n",
      "400\n",
      "600\n",
      "800\n",
      "1000\n",
      "1200\n",
      "1400\n",
      "1486\n",
      "1486\n",
      "1486\n"
     ]
    }
   ],
   "source": [
    "article_urls = get_author_articles(web_driver)\n",
    "\n",
    "print(len(article_urls))\n",
    "print(len(set(article_urls)))"
   ]
  },
  {
   "cell_type": "code",
   "execution_count": 7,
   "metadata": {},
   "outputs": [],
   "source": [
    "web_driver.quit()"
   ]
  }
 ],
 "metadata": {
  "kernelspec": {
   "display_name": "Python 3",
   "language": "python",
   "name": "python3"
  },
  "language_info": {
   "codemirror_mode": {
    "name": "ipython",
    "version": 3
   },
   "file_extension": ".py",
   "mimetype": "text/x-python",
   "name": "python",
   "nbconvert_exporter": "python",
   "pygments_lexer": "ipython3",
   "version": "3.10.10"
  },
  "orig_nbformat": 4,
  "vscode": {
   "interpreter": {
    "hash": "6c8272dc20ccb959420f15e85876534ed5bdaf10d9e61c6d3e3af1303897b900"
   }
  }
 },
 "nbformat": 4,
 "nbformat_minor": 2
}
