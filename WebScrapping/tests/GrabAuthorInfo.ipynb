{
 "cells": [
  {
   "cell_type": "code",
   "execution_count": 1,
   "metadata": {},
   "outputs": [],
   "source": [
    "from selenium.webdriver.firefox.service import Service\n",
    "from selenium.webdriver.support.ui import Select\n",
    "from selenium.webdriver.common.by import By\n",
    "from selenium import webdriver\n",
    "from bs4 import BeautifulSoup\n",
    "\n",
    "import time\n"
   ]
  },
  {
   "cell_type": "code",
   "execution_count": 2,
   "metadata": {},
   "outputs": [],
   "source": [
    "firefox_service = Service()\n",
    "web_driver = webdriver.Firefox(service = firefox_service)"
   ]
  },
  {
   "cell_type": "code",
   "execution_count": 3,
   "metadata": {},
   "outputs": [],
   "source": [
    "url = \"https://www.scopus.com/authid/detail.uri?authorId=57206520256\"\n",
    "web_driver.get(url)"
   ]
  },
  {
   "cell_type": "code",
   "execution_count": 10,
   "metadata": {},
   "outputs": [],
   "source": [
    "def get_author_data(web_driver, scopus_id):\n",
    "\tauthor_soup = BeautifulSoup(web_driver.page_source,'lxml')\n",
    "\tweb_driver.find_element(By.ID, \"AuthorHeader__showAllAuthorInfo\").click() #Abrir aba de dados\n",
    "\ttime.sleep(1)\n",
    "\tsidebar_soup = BeautifulSoup(web_driver.page_source, 'lxml')\n",
    "\tweb_driver.find_element(By.CSS_SELECTOR, \"button[data-test-id='flyout-close-button']\").click() #Fecha aba de dados\n",
    "\n",
    "\tauthor_information = {\"ID\": scopus_id}\n",
    "\n",
    "\tname = author_soup.find(\"title\").string[:-26]\n",
    "\tauthor_information[\"Name\"] = name\n",
    "\n",
    "\tauthor_location = author_soup.find(\"span\", {\"data-testid\": \"authorInstitution\"})\n",
    "\tfound_elements = author_location.find_all(\"span\")\n",
    "\tlocation = found_elements[1].string[2:].split(sep = \",\")\n",
    "\tauthor_information[\"Country\"] = location[1].strip()\n",
    "\tauthor_information[\"City\"] = location[0]\n",
    "\tauthor_information[\"Institution\"] = found_elements[0].string\n",
    "\n",
    "\tfound_elements = author_soup.find_all(\"span\", {\"data-testid\": \"unclickable-count\"})\n",
    "\tauthor_information[\"Citations\"] = found_elements[0].string\n",
    "\tauthor_information[\"Documents\"] = found_elements[1].string\n",
    "\tauthor_information[\"h-index\"] = found_elements[2].string\n",
    "\n",
    "\tauthor_areas = sidebar_soup.find(\"span\", {\"data-testid\": \"authorSubjects\"}).string.split(sep = \" • \")\n",
    "\tauthor_information[\"Areas\"] = author_areas\n",
    "\n",
    "\treturn author_information\n"
   ]
  },
  {
   "cell_type": "code",
   "execution_count": 11,
   "metadata": {},
   "outputs": [
    {
     "name": "stdout",
     "output_type": "stream",
     "text": [
      "57206520256\n"
     ]
    },
    {
     "data": {
      "text/plain": [
       "{'ID': '57206520256',\n",
       " 'Name': 'Colditz, Graham A.',\n",
       " 'Country': 'United States',\n",
       " 'City': 'St. Louis',\n",
       " 'Institution': 'Washington University School of Medicine in St. Louis',\n",
       " 'Citations': '220,451',\n",
       " 'Documents': '1,486',\n",
       " 'h-index': '246',\n",
       " 'Areas': ['Medicine',\n",
       "  'Biochemistry, Genetics and Molecular Biology',\n",
       "  'Agricultural and Biological Sciences',\n",
       "  'Social Sciences',\n",
       "  'Nursing',\n",
       "  'Mathematics',\n",
       "  'Psychology',\n",
       "  'Decision Sciences',\n",
       "  'Health Professions',\n",
       "  'Neuroscience',\n",
       "  'Immunology and Microbiology',\n",
       "  'Pharmacology, Toxicology and Pharmaceutics',\n",
       "  'Dentistry',\n",
       "  'Arts and Humanities',\n",
       "  'Environmental Science',\n",
       "  'Engineering',\n",
       "  'Multidisciplinary',\n",
       "  'Chemical Engineering',\n",
       "  'Economics, Econometrics and Finance',\n",
       "  'Materials Science',\n",
       "  'Chemistry',\n",
       "  'Physics and Astronomy']}"
      ]
     },
     "execution_count": 11,
     "metadata": {},
     "output_type": "execute_result"
    }
   ],
   "source": [
    "id = url[url.find(\"=\")+1:]\n",
    "print(id)\n",
    "\n",
    "get_author_data(web_driver, id)\n"
   ]
  },
  {
   "cell_type": "code",
   "execution_count": 12,
   "metadata": {},
   "outputs": [],
   "source": [
    "web_driver.quit()"
   ]
  }
 ],
 "metadata": {
  "kernelspec": {
   "display_name": "Python 3",
   "language": "python",
   "name": "python3"
  },
  "language_info": {
   "codemirror_mode": {
    "name": "ipython",
    "version": 3
   },
   "file_extension": ".py",
   "mimetype": "text/x-python",
   "name": "python",
   "nbconvert_exporter": "python",
   "pygments_lexer": "ipython3",
   "version": "3.10.10"
  },
  "orig_nbformat": 4,
  "vscode": {
   "interpreter": {
    "hash": "6c8272dc20ccb959420f15e85876534ed5bdaf10d9e61c6d3e3af1303897b900"
   }
  }
 },
 "nbformat": 4,
 "nbformat_minor": 2
}
