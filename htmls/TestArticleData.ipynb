{
 "cells": [
  {
   "cell_type": "code",
   "execution_count": 2,
   "metadata": {},
   "outputs": [],
   "source": [
    "from bs4 import BeautifulSoup\n"
   ]
  },
  {
   "cell_type": "code",
   "execution_count": 3,
   "metadata": {},
   "outputs": [],
   "source": [
    "file = open(\"ArticlePage.html\", \"r\", encoding=\"utf-8\")\n",
    "html_soup = BeautifulSoup(file, 'lxml')\n",
    "file.close()\n",
    "\n",
    "file=open(\"ArticleAuthorBar.html\", \"r\", encoding=\"utf-8\")\n",
    "sidebar_soup = BeautifulSoup(file, 'lxml')\n",
    "file.close()"
   ]
  },
  {
   "cell_type": "code",
   "execution_count": 5,
   "metadata": {},
   "outputs": [
    {
     "name": "stdout",
     "output_type": "stream",
     "text": [
      "Schuster, Anne Lr\n",
      "Crossnohere, Norah L.\n",
      "Bachini, Melinda\n",
      "Blair, Cindy K.\n",
      "Carpten, John D.\n",
      "Claus, Elizabeth B.\n",
      "Colditz, Graham A.\n",
      "Ding, Li\n",
      "Drake, Bettina F.\n",
      "Fields, Ryan C.\n",
      "Janeway, Katherine A.\n",
      "Kwan, Bethany M.\n",
      "Lenz, Heinz-Josef\n",
      "Ma, Qin\n",
      "Mishra, Shiraz I.\n",
      "Paskett, Electra D.\n",
      "Rebbeck, Timothy R.\n",
      "Ricker, Charité\n",
      "Stern, Mariana C.\n",
      "Sussman, Andrew L.\n",
      "Tiner, Jessica C.\n",
      "Trent, Jeffrey M.\n",
      "Verhaak, Roel Gw\n",
      "Wagle, Nikhil\n",
      "Willman, Cheryl\n",
      "Bridges, John Fp\n",
      "Show additional authors\n",
      "None\n"
     ]
    }
   ],
   "source": [
    "name = html_soup.find(\"title\").string\n",
    "author_list = html_soup.find(\"div\", {\"class\": \"row\", \"data-testid\": \"author-list\"})\n",
    "found_elements = author_list.find_all(\"button\")\n",
    "\n",
    "for el in found_elements:\n",
    "    print(el.find(\"span\").string)"
   ]
  }
 ],
 "metadata": {
  "kernelspec": {
   "display_name": "Python 3",
   "language": "python",
   "name": "python3"
  },
  "language_info": {
   "codemirror_mode": {
    "name": "ipython",
    "version": 3
   },
   "file_extension": ".py",
   "mimetype": "text/x-python",
   "name": "python",
   "nbconvert_exporter": "python",
   "pygments_lexer": "ipython3",
   "version": "3.10.10"
  },
  "orig_nbformat": 4,
  "vscode": {
   "interpreter": {
    "hash": "6c8272dc20ccb959420f15e85876534ed5bdaf10d9e61c6d3e3af1303897b900"
   }
  }
 },
 "nbformat": 4,
 "nbformat_minor": 2
}
