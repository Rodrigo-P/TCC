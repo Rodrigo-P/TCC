{
 "cells": [
  {
   "cell_type": "code",
   "execution_count": 1,
   "metadata": {},
   "outputs": [],
   "source": [
    "from selenium.webdriver.firefox.service import Service\n",
    "from selenium.webdriver.common.by import By\n",
    "from selenium import webdriver\n",
    "from bs4 import BeautifulSoup\n"
   ]
  },
  {
   "cell_type": "code",
   "execution_count": 3,
   "metadata": {},
   "outputs": [],
   "source": [
    "firefox_service = Service()\n",
    "web_driver = webdriver.Firefox(service = firefox_service)"
   ]
  },
  {
   "cell_type": "code",
   "execution_count": 6,
   "metadata": {},
   "outputs": [],
   "source": [
    "url = \"https://www.scopus.com/authid/detail.uri?authorId=57206520256\"\n",
    "web_driver.get(url)"
   ]
  },
  {
   "cell_type": "code",
   "execution_count": 7,
   "metadata": {},
   "outputs": [
    {
     "data": {
      "text/plain": [
       "609847"
      ]
     },
     "execution_count": 7,
     "metadata": {},
     "output_type": "execute_result"
    }
   ],
   "source": [
    "html_soup = BeautifulSoup(web_driver.page_source,'lxml')\n",
    "file=open(\"AuthorPage.html\", \"w\", encoding=\"utf-8\") #Salva HTML sem aba\n",
    "file.write(str(html_soup))"
   ]
  },
  {
   "cell_type": "code",
   "execution_count": 4,
   "metadata": {},
   "outputs": [],
   "source": [
    "web_driver.find_element(By.ID, \"AuthorHeader__showAllAuthorInfo\").click() #Abrir aba de dados"
   ]
  },
  {
   "cell_type": "code",
   "execution_count": 22,
   "metadata": {},
   "outputs": [],
   "source": [
    "html_soup = BeautifulSoup(web_driver.page_source,'lxml')\n",
    "file=open(\"AuthorPageSideBar.html\", \"w\", encoding=\"utf-8\") #Salva HTML com aba\n",
    "file.write(str(html_soup))\n",
    "file.close()"
   ]
  },
  {
   "cell_type": "code",
   "execution_count": 5,
   "metadata": {},
   "outputs": [],
   "source": [
    "web_driver.find_element(By.CSS_SELECTOR, \"button[data-test-id='flyout-close-button']\").click() #Fecha aba de dados"
   ]
  },
  {
   "cell_type": "code",
   "execution_count": 6,
   "metadata": {},
   "outputs": [
    {
     "name": "stdout",
     "output_type": "stream",
     "text": [
      "10\n",
      "https://www.scopus.com/record/display.uri?eid=2-s2.0-85151575169&origin=resultslist&sort=plf-f\n"
     ]
    }
   ],
   "source": [
    "article_list = web_driver.find_elements(By.CSS_SELECTOR, \"li[class='results-list-item']\")\n",
    "print(len(article_list)) #Número de artigos\n",
    "print(article_list[2].find_element(By.CSS_SELECTOR, \"a[href]\").get_attribute(\"href\")) #Link do terceiro artigo\n"
   ]
  },
  {
   "cell_type": "code",
   "execution_count": 7,
   "metadata": {},
   "outputs": [],
   "source": [
    "web_driver.quit()"
   ]
  }
 ],
 "metadata": {
  "kernelspec": {
   "display_name": "Python 3",
   "language": "python",
   "name": "python3"
  },
  "language_info": {
   "codemirror_mode": {
    "name": "ipython",
    "version": 3
   },
   "file_extension": ".py",
   "mimetype": "text/x-python",
   "name": "python",
   "nbconvert_exporter": "python",
   "pygments_lexer": "ipython3",
   "version": "3.10.10"
  },
  "orig_nbformat": 4,
  "vscode": {
   "interpreter": {
    "hash": "6c8272dc20ccb959420f15e85876534ed5bdaf10d9e61c6d3e3af1303897b900"
   }
  }
 },
 "nbformat": 4,
 "nbformat_minor": 2
}
