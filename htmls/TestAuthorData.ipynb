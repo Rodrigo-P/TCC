{
 "cells": [
  {
   "cell_type": "code",
   "execution_count": 1,
   "metadata": {},
   "outputs": [],
   "source": [
    "from bs4 import BeautifulSoup\n"
   ]
  },
  {
   "cell_type": "code",
   "execution_count": 2,
   "metadata": {},
   "outputs": [],
   "source": [
    "file=open(\"AuthorPage.html\", \"r\", encoding=\"utf-8\")\n",
    "author_soup = BeautifulSoup(file, 'lxml')\n",
    "file.close()\n",
    "\n",
    "file=open(\"AuthorPageSideBar.html\", \"r\", encoding=\"utf-8\")\n",
    "sidebar_soup = BeautifulSoup(file, 'lxml')\n",
    "file.close()"
   ]
  },
  {
   "cell_type": "code",
   "execution_count": 3,
   "metadata": {},
   "outputs": [
    {
     "name": "stdout",
     "output_type": "stream",
     "text": [
      "Name:\t\tColditz, Graham A.\n",
      "Country:\tUnited States\n",
      "City:\t\tSt. Louis\n",
      "Institution:\tWashington University School of Medicine in St. Louis\n",
      "Citations:\t220,360\n",
      "Documents:\t1,486\n",
      "h-index:\t246\n"
     ]
    }
   ],
   "source": [
    "name = author_soup.find(\"title\").string[:-26]\n",
    "print(f\"Name:\\t\\t{name}\")\n",
    "\n",
    "author_location = author_soup.find(\"span\", {\"data-testid\": \"authorInstitution\"})\n",
    "found_elements = author_location.find_all(\"span\")\n",
    "location = found_elements[1].string[2:].split(sep = \",\")\n",
    "print(f\"Country:\\t{location[1].strip()}\")\n",
    "print(f\"City:\\t\\t{location[0]}\")\n",
    "print(f\"Institution:\\t{found_elements[0].string}\")\n",
    "\n",
    "found_elements = author_soup.find_all(\"span\", {\"data-testid\": \"unclickable-count\"})\n",
    "print(f\"Citations:\\t{found_elements[0].string}\")\n",
    "print(f\"Documents:\\t{found_elements[1].string}\")\n",
    "print(f\"h-index:\\t{found_elements[2].string}\")"
   ]
  },
  {
   "cell_type": "code",
   "execution_count": 4,
   "metadata": {},
   "outputs": [
    {
     "name": "stdout",
     "output_type": "stream",
     "text": [
      "Areas: ['Medicine', 'Biochemistry, Genetics and Molecular Biology', 'Agricultural and Biological Sciences', 'Social Sciences', 'Nursing', 'Mathematics', 'Psychology', 'Decision Sciences', 'Health Professions', 'Neuroscience', 'Immunology and Microbiology', 'Pharmacology, Toxicology and Pharmaceutics', 'Dentistry', 'Arts and Humanities', 'Environmental Science', 'Engineering', 'Multidisciplinary', 'Chemical Engineering', 'Economics, Econometrics and Finance', 'Materials Science', 'Chemistry', 'Physics and Astronomy']\n",
      "\n"
     ]
    }
   ],
   "source": [
    "author_areas = sidebar_soup.find(\"span\", {\"data-testid\": \"authorSubjects\"}).string.split(sep = \" • \")\n",
    "print(f\"Areas: {author_areas}\\n\")"
   ]
  },
  {
   "cell_type": "code",
   "execution_count": 10,
   "metadata": {},
   "outputs": [
    {
     "name": "stdout",
     "output_type": "stream",
     "text": [
      "None - Modifiable risk factors in women at high risk of breast cancer: a systematic review\n",
      "Article - Predicting the onset of breast cancer using mammogram imaging data with irregular boundary\n",
      "None - Priorities to Promote Participant Engagement in the Participant Engagement and Cancer Genome Sequencing (PE-CGS) Network\n",
      "Article - Development and validation of the lung donor (LUNDON) acceptability score for pulmonary transplantation\n",
      "None - Efficacy of Postpartum Pharmacologic Thromboprophylaxis: A Systematic Review and Meta-analysis\n",
      "None - Impact of the COVID-19 pandemic on breast, colorectal, lung, and prostate cancer stage at diagnosis according to race\n",
      "None - Combined individual participant data: highest-level evidence on obesity and colorectal cancer molecular subtypes\n",
      "Article - Adolescent dietary patterns in relation to later prostate cancer risk and mortality in the NIH-AARP Diet and Health Study\n",
      "None - Designing home-based physical activity programs for rural cancer survivors: A survey of technology access and preferences\n",
      "Book Chapter - Cancer: Epidemiology and associations between diet and cancer\n"
     ]
    }
   ],
   "source": [
    "found_elements = author_soup.find_all(\"li\", {\"class\": \"results-list-item\"})\n",
    "\n",
    "for el in found_elements[:10]:\n",
    "\tprint(el.find(\"span\").string,end=\" - \")\n",
    "\tprint(el.find(\"h4\").find_all(\"span\")[-1].string)\n"
   ]
  },
  {
   "cell_type": "code",
   "execution_count": 7,
   "metadata": {},
   "outputs": [
    {
     "name": "stdout",
     "output_type": "stream",
     "text": [
      "None\n",
      "Modifiable risk factors in women at high risk of breast cancer: a systematic review\n"
     ]
    }
   ],
   "source": [
    "found_elements = author_soup.find_all(\"li\", {\"class\": \"results-list-item\"})\n",
    "\n",
    "for el in found_elements:\n",
    "\tprint(el.find(\"h4\").find_all(\"span\")[-1].string)\n",
    "\tbreak\n"
   ]
  },
  {
   "cell_type": "code",
   "execution_count": null,
   "metadata": {},
   "outputs": [],
   "source": [
    "# Sidebar Institution History ---- MESSY TO PROPERLY RETRIEVE\n",
    "# institution_history = html_soup.find(\"div\", {\"data-testid\": \"authorInstitutionHistory\"})\n",
    "# file=open(\"htmls\\\\InstitutionHistory.html\", \"w\", encoding=\"utf-8\")\n",
    "# file.write(str(institution_history))\n",
    "# file.close()\n",
    "# span = institution_history.find_all(\"span\")\n",
    "# for el in span:\n",
    "#     print(el.string)"
   ]
  }
 ],
 "metadata": {
  "kernelspec": {
   "display_name": "Python 3",
   "language": "python",
   "name": "python3"
  },
  "language_info": {
   "codemirror_mode": {
    "name": "ipython",
    "version": 3
   },
   "file_extension": ".py",
   "mimetype": "text/x-python",
   "name": "python",
   "nbconvert_exporter": "python",
   "pygments_lexer": "ipython3",
   "version": "3.10.10"
  },
  "orig_nbformat": 4,
  "vscode": {
   "interpreter": {
    "hash": "6c8272dc20ccb959420f15e85876534ed5bdaf10d9e61c6d3e3af1303897b900"
   }
  }
 },
 "nbformat": 4,
 "nbformat_minor": 2
}
